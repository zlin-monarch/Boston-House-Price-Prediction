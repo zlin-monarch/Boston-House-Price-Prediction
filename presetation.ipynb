{
 "cells": [
  {
   "cell_type": "markdown",
   "metadata": {
    "vscode": {
     "languageId": "bat"
    }
   },
   "source": [
    "## Inference End Point"
   ]
  },
  {
   "cell_type": "markdown",
   "metadata": {},
   "source": [
    "### Data \n",
    "1. Source: [Kaggle: Boston Housing](https://www.kaggle.com/c/boston-housing/data?select=train.csv)\n",
    "2. Prediction value: median value of owner-occupied homes in $1000s\n",
    "3. Training data: 13 features (e.g. crime rate, average number of rooms, etc.) and 1 target variable (median value of owner-occupied homes)\n",
    "4. Data format: int and float \n",
    "\n",
    "### Model \n",
    "Gradient Boost Regression: made up of 6 trees \n",
    "\n",
    "<img src=\"./static/Images/Gradient-Boosting-tree-scaled.jpg\" alt=\"drawing\" width=\"800\"/>\n",
    "\n",
    "\n",
    "## Overview \n",
    "- [Step 0: Prerequisites](#step-0-prerequisites)\n",
    "- [Step 1: Run a Model as a Web API](#step1-run-a-model-as-a-web-api)\n",
    "- [Step 2: Dockerize the Streamlit API](#step-2-dockerize-the-web-api)\n",
    "- [Step 3: Set up the Image as a Service on Kubernetes](#step3-set-up-the-image-as-a-service-on-kubernetes)"
   ]
  },
  {
   "cell_type": "markdown",
   "metadata": {},
   "source": [
    "### Step 0: Prerequisites\n",
    "1. Clone or pull the repo git clone https://github.com/zlin-monarch/Boston-House-Price-Prediction\n",
    "2. Have a look on repo: \n",
    "- Where is the model file?\n",
    "- Is the model is runnable?  "
   ]
  },
  {
   "cell_type": "markdown",
   "metadata": {},
   "source": [
    "### Step 1: Run a Model as a Web API"
   ]
  },
  {
   "cell_type": "code",
   "execution_count": 5,
   "metadata": {},
   "outputs": [],
   "source": [
    "# !streamlit run main.py --server.port 8765 "
   ]
  },
  {
   "cell_type": "markdown",
   "metadata": {},
   "source": [
    "**Drawbacks:**\n",
    "\n",
    "- **Be troublesome to set up environment**: Local environments can vary greatly depending on the operating system, installed libraries, and other configurations. This can be time-consuming and frustrating, especially if you need to repeat the process on different machines.\n",
    "\n",
    "- **Fail to share the API to others cross-platform**: Sharing an API running locally with others can be difficult. They might need to have the same environment set up on their machine, which can be a major hurdle."
   ]
  },
  {
   "cell_type": "markdown",
   "metadata": {},
   "source": [
    "### Step 2: Dockerize the Web API\n",
    "\n",
    "![](./static/Images/docker-build-run.png)\n",
    "\n",
    "- View existing Docker images: `docker images -a`\n",
    "- Build a docker image: `docker build . -t medv:v1`\n",
    "- Run a docker container: `docker run -p 5678:8765 -image medv:v1`\n",
    "\n",
    "**Reasons for Dockerizing the API:**\n",
    "- Be ready for scales in kubernetes \n",
    "- Simplifies environment setup:\n",
    "    - Docker ensures our API runs the same everywhere, avoiding environment headaches\n",
    "- Facilitates sharing with others.\n"
   ]
  },
  {
   "cell_type": "markdown",
   "metadata": {},
   "source": [
    "Steps to follow:\n",
    "\n",
    "Push the image into hub\n",
    "\n",
    "<img src=\"./static/Images/docker-push-pull.png\" alt=\"drawing\" width=\"800\"/>"
   ]
  },
  {
   "cell_type": "code",
   "execution_count": 10,
   "metadata": {},
   "outputs": [],
   "source": [
    "# run in terminal\n",
    "# docker tag <image_name>:<tag> <docker account>/<image name>:<tag>\n",
    "# docker push <image_name>:<tag> \n",
    "# docker pull <image_name>:<tag>\n",
    "# docker run -p 5678:8765 <docker account>/<image name>:<tag>\n"
   ]
  },
  {
   "cell_type": "markdown",
   "metadata": {},
   "source": [
    "### Step3: Set up the Image as a Service on Kubernetes\n",
    "\n",
    "Benefits when setting it as a service \n",
    "- Easily add pods to handle the increased traffic \n",
    "- If a pod has failed, the service would automatically route the request to other pods \n",
    "\n",
    "<img src=\"./static/Images/kuber-service.png\" alt=\"drawing\" width=\"600\"/>\n",
    "\n",
    "1. Deploy the image into a deployment\n",
    "- Pod: a group of one or more containers\n",
    "- Deployment: create and manage pods \n",
    "\n",
    "<img src=\"./static/Images/kuber-pod.png\" alt=\"drawing\" width=\"800\"/>\n",
    "\n"
   ]
  },
  {
   "cell_type": "code",
   "execution_count": 11,
   "metadata": {},
   "outputs": [],
   "source": [
    "# run in terminal \n",
    "\n",
    "## Start minikube \n",
    "\n",
    "# minikube start\n",
    "\n",
    "# ## Create deployment\n",
    "# kubectl create deployment medv  --image=veraz00/medv:v1 \n",
    "\n",
    "# ## Scale the deployment\n",
    "# kubectl scale deployment/medv --replicas=3\n",
    "\n",
    "# ## List kubernetes pods\n",
    "# kubectl get pods\n",
    "\n",
    "# ## Test the pods \n",
    "# kubectl exec -ti $POD_NAME -- curl http://localhost:8765\n"
   ]
  },
  {
   "cell_type": "markdown",
   "metadata": {},
   "source": [
    "2. Create a service \n",
    "\n",
    "Service: expose the pod to the public internet \n",
    "\n",
    "\n",
    "\n"
   ]
  },
  {
   "cell_type": "code",
   "execution_count": 13,
   "metadata": {},
   "outputs": [],
   "source": [
    "# Expose the deployment\n",
    "\n",
    "# kubectl expose deployment/medv --type=LoadBalancer --name=medv --port=7658 --target-port=8765\n",
    "# minikube service medv "
   ]
  },
  {
   "cell_type": "code",
   "execution_count": 12,
   "metadata": {},
   "outputs": [],
   "source": [
    "# Check the log messages in pod \n",
    "# kubectl logs -f <pod id>"
   ]
  },
  {
   "cell_type": "code",
   "execution_count": null,
   "metadata": {},
   "outputs": [],
   "source": []
  }
 ],
 "metadata": {
  "kernelspec": {
   "display_name": "house_env",
   "language": "python",
   "name": "python3"
  },
  "language_info": {
   "codemirror_mode": {
    "name": "ipython",
    "version": 3
   },
   "file_extension": ".py",
   "mimetype": "text/x-python",
   "name": "python",
   "nbconvert_exporter": "python",
   "pygments_lexer": "ipython3",
   "version": "3.7.17"
  }
 },
 "nbformat": 4,
 "nbformat_minor": 2
}
