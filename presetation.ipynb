{
 "cells": [
  {
   "cell_type": "markdown",
   "metadata": {
    "vscode": {
     "languageId": "bat"
    }
   },
   "source": [
    "## Set up a Model as a Service in Kubernetes"
   ]
  },
  {
   "cell_type": "markdown",
   "metadata": {},
   "source": [
    "### Data \n",
    "1. Source: [Kaggle: Boston Housing](https://www.kaggle.com/c/boston-housing/data?select=train.csv)\n",
    "2. Prediction value: median value of owner-occupied homes in $1000s\n",
    "3. Training data: 13 features (e.g. crime rate, average number of rooms, etc.) and 1 target variable (median value of owner-occupied homes)\n",
    "4. Data format: int and float \n",
    "\n"
   ]
  },
  {
   "cell_type": "markdown",
   "metadata": {},
   "source": [
    "### Step 0: Prerequisites\n",
    "1. Clone or pull the repo git clone https://github.com/zlin-monarch/Boston-House-Price-Prediction\n",
    "2. Have a look on repo: \n",
    "- Where is the model file?\n",
    "- Is the model is runnable?  "
   ]
  },
  {
   "cell_type": "markdown",
   "metadata": {},
   "source": [
    "### Step1: Build a Streamlit App"
   ]
  },
  {
   "cell_type": "code",
   "execution_count": 5,
   "metadata": {},
   "outputs": [],
   "source": [
    "# !streamlit run main.py --server.port 8765 "
   ]
  },
  {
   "cell_type": "markdown",
   "metadata": {},
   "source": [
    "### Step 2: Dockerize the Streamlit App\n",
    "\n",
    "(Execute the following commands in the terminal)\n",
    "1. View existing Docker images: `docker images -a`\n",
    "2. Build and run the Docker container: `docker-compose up --build`\n",
    "\n",
    "![](./static/Images/docker-compose.png)\n",
    "\n",
    "**Reasons for Dockerizing the App:**\n",
    "- Simplifies environment setup:\n",
    "    - The application relies on a specific version of the scikit-learn package, which may be challenging to install, especially since it requires Python 3.7. A Docker image ensures a consistent and functional environment.\n",
    "- Facilitates sharing with others.\n",
    "\n",
    "\n",
    "Steps to follow:\n",
    "\n",
    "3. Review the `Dockerfile` and `docker-compose.yml` for configuration details.\n",
    "4. Test the application within the Docker container: `http:<internal ip>/5678`.\n",
    "5. Obtain the public image (if available) by pulling it from a Docker registry (e.g., Docker Hub) \n",
    "\n",
    "<img src=\"./static/Images/docker-push-pull.png\" alt=\"drawing\" width=\"800\"/>"
   ]
  },
  {
   "cell_type": "code",
   "execution_count": 6,
   "metadata": {},
   "outputs": [],
   "source": [
    "# run in terminal\n",
    "# docker tag <image_name>:<tag> <docker account>/<image name>:<tag>\n",
    "# docker push <image_name>:<tag> \n",
    "# docker pull <image_name>:<tag>\n",
    "# docker run -p 5678:8765 <docker account>/<image name>:<tag>\n"
   ]
  },
  {
   "cell_type": "markdown",
   "metadata": {},
   "source": [
    "### Step3: Set up a service on Kubernetes\n",
    "1. Deploy the image into a deployment\n",
    "- Pod: a group of one or more containers\n",
    "- Deployment: create and manage pods \n",
    "\n",
    "<img src=\"./static/Images/kuber-pod.png\" alt=\"drawing\" width=\"800\"/>\n",
    "\n"
   ]
  },
  {
   "cell_type": "code",
   "execution_count": 7,
   "metadata": {},
   "outputs": [],
   "source": [
    "# run in terminal \n",
    "\n",
    "## Start minikube \n",
    "\n",
    "# minikube start\n",
    "\n",
    "# ## Create deployment\n",
    "# kubectl create deployment priceprediction  --image=veraz00/medv:v1 \n",
    "\n",
    "# ## Scale the deployment\n",
    "# kubectl scale deployment/priceprediction --replicas=3\n",
    "\n",
    "# ## List kubernetes pods\n",
    "# kubectl get pods\n",
    "\n",
    "# ## Test the pods \n",
    "# kubectl exec -ti $POD_NAME -- curl http://localhost:8765\n"
   ]
  },
  {
   "cell_type": "markdown",
   "metadata": {},
   "source": [
    "2. Create a service \n",
    "Service: expose the pod to the public internet \n",
    "\n",
    "<img src=\"./static/Images/kuber-service.png\" alt=\"drawing\" width=\"600\"/>\n",
    "\n",
    "\n"
   ]
  },
  {
   "cell_type": "code",
   "execution_count": 8,
   "metadata": {},
   "outputs": [],
   "source": [
    "# Check the log messages in pod \n",
    "# kubectl logs -f <pod id>\n",
    "\n"
   ]
  },
  {
   "cell_type": "code",
   "execution_count": 9,
   "metadata": {},
   "outputs": [],
   "source": [
    "# Expose the deployment\n",
    "\n",
    "# kubectl expose deployment/medv --type=LoadBalancer --name=medv --port=7658 --target-port=8765\n",
    "# minikube service priceprediction "
   ]
  },
  {
   "cell_type": "code",
   "execution_count": null,
   "metadata": {},
   "outputs": [],
   "source": []
  }
 ],
 "metadata": {
  "kernelspec": {
   "display_name": "house_env",
   "language": "python",
   "name": "python3"
  },
  "language_info": {
   "codemirror_mode": {
    "name": "ipython",
    "version": 3
   },
   "file_extension": ".py",
   "mimetype": "text/x-python",
   "name": "python",
   "nbconvert_exporter": "python",
   "pygments_lexer": "ipython3",
   "version": "3.7.17"
  }
 },
 "nbformat": 4,
 "nbformat_minor": 2
}
